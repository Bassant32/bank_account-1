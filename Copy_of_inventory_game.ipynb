{
  "cells": [
    {
      "cell_type": "markdown",
      "id": "ecac64c9",
      "metadata": {
        "id": "ecac64c9"
      },
      "source": [
        "# 🏝️ Island Adventure Game — Part 1: The Inventory Challenge\n",
        "\n",
        "# 🎯 Things to Choose Before the Game Starts\n",
        "\n",
        "# Choose 5 items and an alphabet letter (e.g., \"m\", \"f\", \"s\").\n"
      ]
    },
    {
      "cell_type": "markdown",
      "id": "ZReeGwwHTiTm",
      "metadata": {
        "id": "ZReeGwwHTiTm"
      },
      "source": [
        "\n",
        "# ✅ TASK: Ask the user to input:\n",
        "# - A list of 5 item names (store them in a list)\n",
        "# - An alphabet letter\n",
        "\n",
        "\n",
        "# ✅ IMPORTANT:\n",
        "# - Print the inventory before and after any change\n",
        "# - Print the score after any change\n",
        "\n"
      ]
    },
    {
      "cell_type": "markdown",
      "id": "2ac1cc24",
      "metadata": {
        "id": "2ac1cc24"
      },
      "source": [
        "\n",
        "# 🔹 1. Start your score value\n",
        "# ✅ TASK: Initialize your score as 0 and print it\n",
        "\n"
      ]
    },
    {
      "cell_type": "markdown",
      "id": "6c57f645",
      "metadata": {
        "id": "6c57f645"
      },
      "source": [
        "\\\n",
        "# 🔹 2. Pick up your inventory\n",
        "# ✅ TASK:\n",
        "# - Make a loop to take 5 items from the user and store them in a list\n",
        "# - Print the inventory list after adding the items\n"
      ]
    },
    {
      "cell_type": "markdown",
      "id": "f0a16a01",
      "metadata": {
        "id": "f0a16a01"
      },
      "source": [
        "\n",
        "\n",
        "# 🔹 3. Create random powers for your items\n",
        "# ✅ TASK:\n",
        "# - Make a list of 5 random numbers from -10 to 10\n",
        "# - Print the list of random powers\n"
      ]
    },
    {
      "cell_type": "code",
      "execution_count": null,
      "id": "grdulcQk_QZb",
      "metadata": {
        "id": "grdulcQk_QZb"
      },
      "outputs": [
        {
          "name": "stdout",
          "output_type": "stream",
          "text": [
            "enter the items :\n"
          ]
        }
      ],
      "source": [
        "l=[]\n",
        "print(\"enter the items :\")\n",
        "for i in range (5):\n",
        "    item = input(\"enter items :\")\n",
        "    l.append(item)\n",
        "print(\"inventory: \",l)\n",
        "ch=\"b\"\n",
        "score = 0 \n",
        "print(score)"
      ]
    },
    {
      "cell_type": "markdown",
      "id": "0fdfd5f0",
      "metadata": {
        "id": "0fdfd5f0"
      },
      "source": [
        "\n",
        "\n",
        "# 🔹 4. Create your inventory dictionary\n",
        "# ✅ TASK:\n",
        "# - Make a dictionary with item names as keys and their random numbers as values\n",
        "# - Example: {'flash': 3, 'knife': 4, ...}\n",
        "# - Print the dictionary\n"
      ]
    },
    {
      "cell_type": "code",
      "execution_count": null,
      "id": "gtk9Rt6x_RBn",
      "metadata": {
        "id": "gtk9Rt6x_RBn"
      },
      "outputs": [],
      "source": []
    },
    {
      "cell_type": "markdown",
      "id": "0de64304",
      "metadata": {
        "id": "0de64304"
      },
      "source": [
        "\n",
        "\n",
        "# 🔹 5. Alphabet Bonus Challenge\n",
        "# ✅ TASK:\n",
        "# - If any item starts with the chosen alphabet, increase your score by 5 points\n",
        "# - Print your inventory and score after this check\n",
        "\n"
      ]
    },
    {
      "cell_type": "code",
      "execution_count": null,
      "id": "7EIHtP6g_RgK",
      "metadata": {
        "id": "7EIHtP6g_RgK"
      },
      "outputs": [],
      "source": []
    },
    {
      "cell_type": "markdown",
      "id": "42b49155",
      "metadata": {
        "id": "42b49155"
      },
      "source": [
        "\n",
        "# 🔹 6. The Heavy Box Challenge\n",
        "# ✅ TASK:\n",
        "# - You found a box with extra items. Create a list of 5 items 3 of them are duplicated and 2 are new. Add them to your inventory with random powers from [-10,10]\n",
        "# - Print the inventory before removing duplicates\n",
        "# - Remove duplicates\n",
        "# - Print the inventory after removing duplicates\n",
        "# - Print how many items you had before and after\n",
        "\n"
      ]
    },
    {
      "cell_type": "code",
      "execution_count": null,
      "id": "QZdHcmmy_TjX",
      "metadata": {
        "id": "QZdHcmmy_TjX"
      },
      "outputs": [],
      "source": []
    },
    {
      "cell_type": "markdown",
      "id": "2c9b73c2",
      "metadata": {
        "id": "2c9b73c2"
      },
      "source": [
        "\n",
        "# 🔹 7. Find Items Ending with \"e\"\n",
        "# ✅ TASK:\n",
        "# - Check if your inventory has items that end with \"e\"\n",
        "# - Print the item and its index for each match\n",
        "# - Your score will increase by 5 points for each item ending with an \"E\"\n",
        "# - Do this using code (not manually)\n",
        "\n"
      ]
    },
    {
      "cell_type": "code",
      "execution_count": null,
      "id": "Y5mF4abE_Ul1",
      "metadata": {
        "id": "Y5mF4abE_Ul1"
      },
      "outputs": [],
      "source": []
    },
    {
      "cell_type": "markdown",
      "id": "cdd740a2",
      "metadata": {
        "id": "cdd740a2"
      },
      "source": [
        "\n",
        "# 🔹 8. 🔪 Echo Exchange Stage\n",
        "# 🔱 \"Every item echoes in reverse... power turns against you.\"\n",
        "# ✅ TASK:\n",
        "# - Pick a random item from your inventory to give to the next team.\n",
        "# - The next team picks an item (you can hardcode this or ask for input)\n",
        "# - Exchange the items\n",
        "# - Change the power of both items to be their original value multiplied by -1\n",
        "# - Update both inventories and powers accordingly\n",
        "# - Print your new inventory and score after the exchange\n"
      ]
    },
    {
      "cell_type": "markdown",
      "id": "955b9c46",
      "metadata": {
        "id": "955b9c46"
      },
      "source": [
        "\n",
        "\n",
        "# 🔹 9. 🔯 The Magical Creature’s Test\n",
        "# 🔱 As you walk deeper into the island, a magical creature blocks your way.\n",
        "\n",
        "# 🔹 OPTIONS:\n",
        "# Do you want to fool him by giving a rock?\n",
        "\n",
        "# ✅ If YES:\n",
        "#   - Use a probability calculation to check your luck\n",
        "#   - If you win (60% chance): Add 7 points\n",
        "#   - If you lose (40% chance): Subtract 5 points\n",
        "#   - Print the outcome and your score\n",
        "\n",
        "# ✅ If NO:\n",
        "#   - Randomly select an item from your inventory\n",
        "#   - Remove it\n",
        "#   - Add half of its score to your total score\n",
        "#   - Print your updated inventory and score\n"
      ]
    },
    {
      "cell_type": "code",
      "execution_count": null,
      "id": "G6Thk-LW_X1g",
      "metadata": {
        "id": "G6Thk-LW_X1g"
      },
      "outputs": [],
      "source": [
        "import random \n",
        "choosed_item = random.choice(item_powers)\n",
        "print(item_powers)\n",
        "picked_item(\"enter the item: \")\n",
        "picked_power()"
      ]
    },
    {
      "cell_type": "markdown",
      "id": "92dfb320",
      "metadata": {
        "id": "92dfb320"
      },
      "source": [
        "\n",
        "\n",
        "# 🔹 10. End of Part 1 🎉\n",
        "# ✅ TASK:\n",
        "# - Print your final inventory\n",
        "# - Print your final score\n",
        "# - Congratulate the player and wait for the next part of the story!\n"
      ]
    },
    {
      "cell_type": "code",
      "execution_count": null,
      "id": "qjYyMXCV_ZF2",
      "metadata": {
        "id": "qjYyMXCV_ZF2"
      },
      "outputs": [],
      "source": []
    },
    {
      "cell_type": "markdown",
      "id": "345c67da",
      "metadata": {
        "id": "345c67da"
      },
      "source": []
    }
  ],
  "metadata": {
    "colab": {
      "provenance": [],
      "toc_visible": true
    },
    "kernelspec": {
      "display_name": "Python 3",
      "name": "python3"
    },
    "language_info": {
      "codemirror_mode": {
        "name": "ipython",
        "version": 3
      },
      "file_extension": ".py",
      "mimetype": "text/x-python",
      "name": "python",
      "nbconvert_exporter": "python",
      "pygments_lexer": "ipython3",
      "version": "3.12.4"
    }
  },
  "nbformat": 4,
  "nbformat_minor": 5
}
