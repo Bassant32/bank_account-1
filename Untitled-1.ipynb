{
 "cells": [
  {
   "cell_type": "code",
   "execution_count": 4,
   "id": "c2f75ffb",
   "metadata": {},
   "outputs": [
    {
     "name": "stdout",
     "output_type": "stream",
     "text": [
      "['HELLO', 'WORLD', 'PYTHON', 'FUNCTION']\n"
     ]
    }
   ],
   "source": [
    "def convert_upper_case():\n",
    "    return [word.upper() for word in words ]\n",
    "words = [\"hello\",\"world\",\"python\",\"function\"]\n",
    "print(convert_upper_case())"
   ]
  },
  {
   "cell_type": "code",
   "execution_count": 6,
   "id": "14e24a82",
   "metadata": {},
   "outputs": [
    {
     "name": "stdout",
     "output_type": "stream",
     "text": [
      "the total price with taxes 660.0\n"
     ]
    }
   ],
   "source": [
    "def calculating_total_price_including_taxes(price,taxes_rate):\n",
    "    total = sum(price)\n",
    "    total_with_taxes=(sum(price))*(1+taxes_rate)\n",
    "    return total_with_taxes\n",
    "price=[100,200,300]\n",
    "taxes_rate=0.1\n",
    "print(\"the total price with taxes\",calculating_total_price_including_taxes(price,taxes_rate))"
   ]
  }
 ],
 "metadata": {
  "kernelspec": {
   "display_name": "Python 3",
   "language": "python",
   "name": "python3"
  },
  "language_info": {
   "codemirror_mode": {
    "name": "ipython",
    "version": 3
   },
   "file_extension": ".py",
   "mimetype": "text/x-python",
   "name": "python",
   "nbconvert_exporter": "python",
   "pygments_lexer": "ipython3",
   "version": "3.12.4"
  }
 },
 "nbformat": 4,
 "nbformat_minor": 5
}
